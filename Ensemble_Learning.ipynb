{
  "nbformat": 4,
  "nbformat_minor": 0,
  "metadata": {
    "colab": {
      "provenance": []
    },
    "kernelspec": {
      "name": "python3",
      "display_name": "Python 3"
    },
    "language_info": {
      "name": "python"
    }
  },
  "cells": [
    {
      "cell_type": "markdown",
      "source": [
        "# Theoretical"
      ],
      "metadata": {
        "id": "GgP1R537u0Uh"
      }
    },
    {
      "cell_type": "markdown",
      "source": [
        "#Q1 Can we use Bagging for regression problems?\n",
        "-> Yes, Bagging can be used for both classification and regression problems. In regression, models like Bagging Regressor combine predictions by averaging outputs from base models.\n",
        "\n",
        "#Q2 What is the difference between multiple model training and single model training?\n",
        "-> Single model training involves building one predictive model, while multiple model training (ensemble methods) combines predictions from several models to improve performance and robustness.\n",
        "\n",
        "#Q3 Explain the concept of feature randomness in Random Forest.\n",
        "-> In Random Forest, feature randomness refers to selecting a random subset of features for each split in a tree, which increases diversity among trees and reduces correlation.\n",
        "\n",
        "#Q4 What is OOB (Out-of-Bag) Score?\n",
        "-> OOB Score is an internal validation method in Random Forest where each tree is tested on data not used in its training (about 1/3rd of the data), providing an unbiased estimate of model performance.\n",
        "\n",
        "#Q5 How can you measure the importance of features in a Random Forest model?\n",
        "-> Feature importance is measured by looking at the decrease in impurity (like Gini index) or using permutation importance, which evaluates how model performance degrades when a feature is randomly shuffled.\n",
        "\n",
        "#Q6 Explain the working principle of a Bagging Classifier.\n",
        "-> A Bagging Classifier builds multiple instances of the same model on different subsets of data sampled with replacement (bootstrap) and combines their outputs via majority voting.\n",
        "\n",
        "#Q7 How do you evaluate a Bagging Classifier’s performance?\n",
        "-> Using metrics like accuracy, precision, recall, F1 score on a test set or through cross-validation. OOB score can also be used for evaluation.\n",
        "\n",
        "#Q8 How does a Bagging Regressor work?\n",
        "-> It trains multiple regressors on different bootstrap samples and averages their predictions to form the final output, reducing variance.\n",
        "\n",
        "#Q9 What is the main advantage of ensemble techniques?\n",
        "-> They improve accuracy, reduce overfitting, and increase model robustness by combining multiple models.\n",
        "\n",
        "#Q10 What is the main challenge of ensemble methods?\n",
        "-> They can be computationally expensive and complex to interpret compared to individual models.\n",
        "\n",
        "#Q11 Explain the key idea behind ensemble techniques.\n",
        "-> The core idea is to combine predictions from multiple models to achieve better generalization than any single model.\n",
        "\n",
        "#Q12 What is a Random Forest Classifier?\n",
        "-> It is an ensemble model that builds multiple decision trees and outputs the class that has the majority vote among the trees.\n",
        "\n",
        "#Q13 What are the main types of ensemble techniques?\n",
        "->\n",
        "- Bagging\n",
        "\n",
        "- Boosting\n",
        "\n",
        "- Stacking\n",
        "\n",
        "- Voting\n",
        "\n",
        "#Q14 What is ensemble learning in machine learning?\n",
        "-> It is a technique where multiple models (weak learners) are trained and combined to solve the same problem and improve overall performance.\n",
        "\n",
        "#Q15 When should we avoid using ensemble methods?\n",
        "-> When interpretability is crucial or when the dataset is small and simple models perform sufficiently well.\n",
        "\n",
        "#Q16 How does Bagging help in reducing overfitting?\n",
        "-> By averaging predictions over diverse models trained on varied subsets of data, it reduces variance and thus overfitting.\n",
        "\n",
        "#Q17 Why is Random Forest better than a single Decision Tree?\n",
        "-> Random Forest reduces variance and overfitting by combining multiple trees trained on different data and feature subsets.\n",
        "\n",
        "#Q18 What is the role of bootstrap sampling in Bagging?\n",
        "-> It creates diverse training datasets by sampling with replacement, ensuring variability among models.\n",
        "\n",
        "#Q19 What are some real-world applications of ensemble techniques?\n",
        "->\n",
        "- Spam detection\n",
        "\n",
        "- Fraud detection\n",
        "\n",
        "- Medical diagnosis\n",
        "\n",
        "- Credit scoring\n",
        "\n",
        "-Stock market prediction\n",
        "\n",
        "#Q20 What is the difference between Bagging and Boosting?\n",
        "\n",
        "-> Bagging builds models independently in parallel and combines them (focus: variance reduction).\n",
        "\n",
        "Boosting builds models sequentially with each focusing on correcting the errors of the previous (focus: bias reduction).\n",
        "\n"
      ],
      "metadata": {
        "id": "UfyZxX1fvZOx"
      }
    },
    {
      "cell_type": "markdown",
      "source": [
        "# Practical"
      ],
      "metadata": {
        "id": "uUxPRGAMvGww"
      }
    },
    {
      "cell_type": "code",
      "source": [
        "# 21. Train a Bagging Classifier using Decision Trees on a sample dataset and print model accuracy.\n",
        "from sklearn.ensemble import BaggingClassifier\n",
        "from sklearn.tree import DecisionTreeClassifier\n",
        "from sklearn.datasets import load_iris\n",
        "from sklearn.model_selection import train_test_split\n",
        "from sklearn.metrics import accuracy_score\n",
        "\n",
        "X, y = load_iris(return_X_y=True)\n",
        "X_train, X_test, y_train, y_test = train_test_split(X, y, random_state=42)\n",
        "\n",
        "bagging_clf = BaggingClassifier(estimator=DecisionTreeClassifier(), n_estimators=10, random_state=42)\n",
        "bagging_clf.fit(X_train, y_train)\n",
        "y_pred = bagging_clf.predict(X_test)\n",
        "print(\"Accuracy:\", accuracy_score(y_test, y_pred))\n"
      ],
      "metadata": {
        "colab": {
          "base_uri": "https://localhost:8080/"
        },
        "id": "7SiQcUo2wTyw",
        "outputId": "961eca5e-8eff-4b43-e753-10bcd0e4d322"
      },
      "execution_count": 3,
      "outputs": [
        {
          "output_type": "stream",
          "name": "stdout",
          "text": [
            "Accuracy: 1.0\n"
          ]
        }
      ]
    },
    {
      "cell_type": "code",
      "source": [
        "# 22. Train a Bagging Regressor using Decision Trees and evaluate using Mean Squared Error (MSE).\n",
        "from sklearn.ensemble import BaggingRegressor\n",
        "from sklearn.tree import DecisionTreeRegressor\n",
        "from sklearn.metrics import mean_squared_error\n",
        "from sklearn.datasets import load_diabetes\n",
        "\n",
        "X, y = load_diabetes(return_X_y=True)\n",
        "X_train, X_test, y_train, y_test = train_test_split(X, y, random_state=42)\n",
        "\n",
        "bagging_reg = BaggingRegressor(estimator=DecisionTreeRegressor(), n_estimators=10, random_state=42)\n",
        "bagging_reg.fit(X_train, y_train)\n",
        "y_pred = bagging_reg.predict(X_test)\n",
        "print(\"MSE:\", mean_squared_error(y_test, y_pred))"
      ],
      "metadata": {
        "colab": {
          "base_uri": "https://localhost:8080/"
        },
        "id": "TYfxasLAwTt9",
        "outputId": "8d0bcc67-6b62-4bd6-d48c-c8fffc5d11e6"
      },
      "execution_count": 4,
      "outputs": [
        {
          "output_type": "stream",
          "name": "stdout",
          "text": [
            "MSE: 3333.257117117116\n"
          ]
        }
      ]
    },
    {
      "cell_type": "code",
      "source": [
        "# 23. Train a Random Forest Classifier on the Breast Cancer dataset and print feature importance scores.\n",
        "from sklearn.ensemble import RandomForestClassifier\n",
        "from sklearn.datasets import load_breast_cancer\n",
        "\n",
        "X, y = load_breast_cancer(return_X_y=True)\n",
        "X_train, X_test, y_train, y_test = train_test_split(X, y, random_state=42)\n",
        "\n",
        "rf_clf = RandomForestClassifier(random_state=42)\n",
        "rf_clf.fit(X_train, y_train)\n",
        "print(\"Feature Importances:\", rf_clf.feature_importances_)"
      ],
      "metadata": {
        "colab": {
          "base_uri": "https://localhost:8080/"
        },
        "id": "2TcHRvD8wTo8",
        "outputId": "46ca58a7-e9b8-4b96-c315-12b52cc7a00e"
      },
      "execution_count": 5,
      "outputs": [
        {
          "output_type": "stream",
          "name": "stdout",
          "text": [
            "Feature Importances: [0.03971058 0.01460399 0.05314639 0.04277978 0.00816485 0.01140166\n",
            " 0.08321459 0.0902992  0.00443533 0.00443395 0.01951684 0.00459978\n",
            " 0.00868228 0.04355077 0.00464415 0.0036549  0.00701442 0.00504716\n",
            " 0.00371411 0.00658253 0.08127686 0.01649014 0.07138828 0.12319232\n",
            " 0.01033481 0.01580059 0.03174022 0.17229521 0.01310266 0.00518165]\n"
          ]
        }
      ]
    },
    {
      "cell_type": "code",
      "source": [
        "# 24. Train a Random Forest Regressor and compare its performance with a single Decision Tree.\n",
        "from sklearn.ensemble import RandomForestRegressor\n",
        "from sklearn.metrics import mean_squared_error, r2_score\n",
        "rf_reg = RandomForestRegressor(random_state=42)\n",
        "rf_reg.fit(X_train, y_train)\n",
        "y_pred_rf = rf_reg.predict(X_test)\n",
        "\n",
        "from sklearn.tree import DecisionTreeRegressor\n",
        "single_tree = DecisionTreeRegressor(random_state=42)\n",
        "single_tree.fit(X_train, y_train)\n",
        "y_pred_tree = single_tree.predict(X_test)\n",
        "\n",
        "# Evaluate Random Forest\n",
        "rf_mse = mean_squared_error(y_test, y_pred_rf)\n",
        "rf_r2 = r2_score(y_test, y_pred_rf)\n",
        "print(\"Random Forest - MSE:\", rf_mse)\n",
        "print(\"Random Forest - R2:\", rf_r2)\n",
        "\n",
        "# Evaluate Single Decision Tree\n",
        "tree_mse = mean_squared_error(y_test, y_pred_tree)\n",
        "tree_r2 = r2_score(y_test, y_pred_tree)\n",
        "print(\"Decision Tree - MSE:\", tree_mse)\n",
        "print(\"Decision Tree - R2:\", tree_r2)"
      ],
      "metadata": {
        "colab": {
          "base_uri": "https://localhost:8080/"
        },
        "id": "eHG1wSEhwTeh",
        "outputId": "b301a765-9937-4f79-a981-9602e3db38fd"
      },
      "execution_count": 10,
      "outputs": [
        {
          "output_type": "stream",
          "name": "stdout",
          "text": [
            "Random Forest - MSE: 0.0337993006993007\n",
            "Random Forest - R2: 0.8561877028714108\n",
            "Decision Tree - MSE: 0.04895104895104895\n",
            "Decision Tree - R2: 0.791718684977112\n"
          ]
        }
      ]
    },
    {
      "cell_type": "code",
      "source": [
        "# 25. Compute the Out-of-Bag (OOB) Score for a Random Forest Classifier.\n",
        "oob_rf = RandomForestClassifier(oob_score=True, random_state=42)\n",
        "oob_rf.fit(X_train, y_train)\n",
        "print(\"OOB Score:\", oob_rf.oob_score_)"
      ],
      "metadata": {
        "colab": {
          "base_uri": "https://localhost:8080/"
        },
        "id": "JETqkj9WwTY9",
        "outputId": "e8b5329b-1e2c-4811-8ae7-9f3b19abdd2b"
      },
      "execution_count": 11,
      "outputs": [
        {
          "output_type": "stream",
          "name": "stdout",
          "text": [
            "OOB Score: 0.960093896713615\n"
          ]
        }
      ]
    },
    {
      "cell_type": "code",
      "source": [
        "# 26. Train a Bagging Classifier using SVM as a base estimator and print accuracy.\n",
        "from sklearn.svm import SVC\n",
        "\n",
        "bagging_svm = BaggingClassifier(estimator=SVC(probability=True), n_estimators=10, random_state=42)\n",
        "bagging_svm.fit(X_train, y_train)\n",
        "y_pred = bagging_svm.predict(X_test)\n",
        "print(\"Bagging SVM Accuracy:\", accuracy_score(y_test, y_pred))\n"
      ],
      "metadata": {
        "colab": {
          "base_uri": "https://localhost:8080/"
        },
        "id": "V2iJUdrFwTTj",
        "outputId": "68b2a668-77ef-4199-8589-d1722fd070d7"
      },
      "execution_count": 13,
      "outputs": [
        {
          "output_type": "stream",
          "name": "stdout",
          "text": [
            "Bagging SVM Accuracy: 0.951048951048951\n"
          ]
        }
      ]
    },
    {
      "cell_type": "code",
      "source": [
        "# 27. Train a Random Forest Classifier with different numbers of trees and compare accuracy.\n",
        "for n in [10, 50, 100]:\n",
        "    model = RandomForestClassifier(n_estimators=n, random_state=42)\n",
        "    model.fit(X_train, y_train)\n",
        "    acc = model.score(X_test, y_test)\n",
        "    print(f\"Accuracy with {n} trees: {acc}\")"
      ],
      "metadata": {
        "colab": {
          "base_uri": "https://localhost:8080/"
        },
        "id": "ghITFwZzwTNa",
        "outputId": "2126091d-bbd3-44de-8183-4a58cf4de49b"
      },
      "execution_count": 14,
      "outputs": [
        {
          "output_type": "stream",
          "name": "stdout",
          "text": [
            "Accuracy with 10 trees: 0.951048951048951\n",
            "Accuracy with 50 trees: 0.972027972027972\n",
            "Accuracy with 100 trees: 0.965034965034965\n"
          ]
        }
      ]
    },
    {
      "cell_type": "code",
      "source": [
        "# 28. Train a Bagging Classifier using Logistic Regression as a base estimator and print AUC score.\n",
        "from sklearn.linear_model import LogisticRegression\n",
        "from sklearn.metrics import roc_auc_score\n",
        "\n",
        "bagging_logreg = BaggingClassifier(estimator=LogisticRegression(max_iter=5000), n_estimators=10, random_state=42)\n",
        "bagging_logreg.fit(X_train, y_train)\n",
        "auc = roc_auc_score(y_test, bagging_logreg.predict_proba(X_test)[:,1])\n",
        "print(\"Bagging Logistic Regression AUC:\", auc)"
      ],
      "metadata": {
        "colab": {
          "base_uri": "https://localhost:8080/"
        },
        "id": "mBSXW5w0wTIv",
        "outputId": "35936d07-c31e-499a-c1a6-e826fbf7a2d1"
      },
      "execution_count": 17,
      "outputs": [
        {
          "output_type": "stream",
          "name": "stdout",
          "text": [
            "Bagging Logistic Regression AUC: 0.9970869746150646\n"
          ]
        }
      ]
    },
    {
      "cell_type": "code",
      "source": [
        "# 29. Train a Random Forest Regressor and analyze feature importance scores.\n",
        "print(\"Random Forest Feature Importances:\", rf_reg.feature_importances_)"
      ],
      "metadata": {
        "colab": {
          "base_uri": "https://localhost:8080/"
        },
        "id": "Tb1VNSOCwTDn",
        "outputId": "2e78fec7-14f3-40f0-dd36-f22b5ff92075"
      },
      "execution_count": 18,
      "outputs": [
        {
          "output_type": "stream",
          "name": "stdout",
          "text": [
            "Random Forest Feature Importances: [0.00406077 0.01755896 0.00312659 0.00630203 0.00342732 0.00070398\n",
            " 0.00191186 0.3209753  0.00201282 0.00303705 0.0072529  0.00316509\n",
            " 0.00361855 0.01198089 0.00438724 0.00170767 0.00495764 0.00164607\n",
            " 0.00261106 0.00564809 0.05222607 0.02772496 0.13801831 0.08283969\n",
            " 0.00745659 0.00382889 0.01469913 0.25420402 0.00649847 0.00241198]\n"
          ]
        }
      ]
    },
    {
      "cell_type": "code",
      "source": [
        "# 30 Train an ensemble model using both Bagging and Random Forest and compare accuracy.\n",
        "from sklearn.ensemble import BaggingClassifier\n",
        "from sklearn.tree import DecisionTreeClassifier\n",
        "from sklearn.datasets import load_breast_cancer\n",
        "from sklearn.model_selection import train_test_split\n",
        "from sklearn.metrics import accuracy_score\n",
        "\n",
        "# Load the Breast Cancer dataset\n",
        "X, y = load_breast_cancer(return_X_y=True)\n",
        "X_train, X_test, y_train, y_test = train_test_split(X, y, random_state=42)\n",
        "\n",
        "# Retrain the Bagging Classifier on the Breast Cancer dataset\n",
        "bagging_clf = BaggingClassifier(estimator=DecisionTreeClassifier(), n_estimators=10, random_state=42)\n",
        "bagging_clf.fit(X_train, y_train)\n",
        "\n",
        "# Now predict and calculate accuracy\n",
        "rf_acc = rf_clf.score(X_test, y_test)\n",
        "bag_acc = bagging_clf.score(X_test, y_test)  # This should work without error now\n",
        "print(\"Random Forest Accuracy:\", rf_acc)\n",
        "print(\"Bagging Classifier Accuracy:\", bag_acc)"
      ],
      "metadata": {
        "colab": {
          "base_uri": "https://localhost:8080/"
        },
        "id": "6u6Y7MiIwS5V",
        "outputId": "6365d7a8-a5fe-4aff-b296-f4936d1e144f"
      },
      "execution_count": 20,
      "outputs": [
        {
          "output_type": "stream",
          "name": "stdout",
          "text": [
            "Random Forest Accuracy: 0.965034965034965\n",
            "Bagging Classifier Accuracy: 0.9440559440559441\n"
          ]
        }
      ]
    },
    {
      "cell_type": "code",
      "source": [
        "# 31. Train a Random Forest Classifier and tune hyperparameters using GridSearchCV.\n",
        "from sklearn.model_selection import GridSearchCV\n",
        "\n",
        "param_grid = {'n_estimators': [50, 100], 'max_depth': [None, 10, 20]}\n",
        "grid_rf = GridSearchCV(RandomForestClassifier(random_state=42), param_grid, cv=3)\n",
        "grid_rf.fit(X_train, y_train)\n",
        "print(\"Best Parameters:\", grid_rf.best_params_)"
      ],
      "metadata": {
        "colab": {
          "base_uri": "https://localhost:8080/"
        },
        "id": "Fbd0jnAxwS00",
        "outputId": "b98d6fe5-4495-4f99-d955-40e1b43dfce3"
      },
      "execution_count": 21,
      "outputs": [
        {
          "output_type": "stream",
          "name": "stdout",
          "text": [
            "Best Parameters: {'max_depth': None, 'n_estimators': 50}\n"
          ]
        }
      ]
    },
    {
      "cell_type": "code",
      "source": [
        "# 32. Train a Bagging Regressor with different numbers of base estimators and compare performance.\n",
        "for n in [5, 10, 20]:\n",
        "    reg = BaggingRegressor(n_estimators=n, random_state=42)\n",
        "    reg.fit(X_train, y_train)\n",
        "    mse = mean_squared_error(y_test, reg.predict(X_test))\n",
        "    print(f\"MSE with {n} estimators: {mse}\")\n"
      ],
      "metadata": {
        "colab": {
          "base_uri": "https://localhost:8080/"
        },
        "id": "5ec9SLxWwSwg",
        "outputId": "b019b635-7e07-4d1b-8c6b-a9fb742e19d0"
      },
      "execution_count": 22,
      "outputs": [
        {
          "output_type": "stream",
          "name": "stdout",
          "text": [
            "MSE with 5 estimators: 0.04167832167832168\n",
            "MSE with 10 estimators: 0.040489510489510494\n",
            "MSE with 20 estimators: 0.03409090909090909\n"
          ]
        }
      ]
    },
    {
      "cell_type": "code",
      "source": [
        "# 33. Train a Random Forest Classifier and analyze misclassified samples.\n",
        "misclassified = X_test[y_test != rf_clf.predict(X_test)]\n",
        "print(\"Misclassified Samples:\", misclassified)"
      ],
      "metadata": {
        "colab": {
          "base_uri": "https://localhost:8080/"
        },
        "id": "6w1EqGoewSs1",
        "outputId": "84085edf-69bd-41b5-fe30-f3760ed75311"
      },
      "execution_count": 23,
      "outputs": [
        {
          "output_type": "stream",
          "name": "stdout",
          "text": [
            "Misclassified Samples: [[1.334e+01 1.586e+01 8.649e+01 5.200e+02 1.078e-01 1.535e-01 1.169e-01\n",
            "  6.987e-02 1.942e-01 6.902e-02 2.860e-01 1.016e+00 1.535e+00 1.296e+01\n",
            "  6.794e-03 3.575e-02 3.980e-02 1.383e-02 2.134e-02 4.603e-03 1.553e+01\n",
            "  2.319e+01 9.666e+01 6.149e+02 1.536e-01 4.791e-01 4.858e-01 1.708e-01\n",
            "  3.527e-01 1.016e-01]\n",
            " [1.380e+01 1.579e+01 9.043e+01 5.841e+02 1.007e-01 1.280e-01 7.789e-02\n",
            "  5.069e-02 1.662e-01 6.566e-02 2.787e-01 6.205e-01 1.957e+00 2.335e+01\n",
            "  4.717e-03 2.065e-02 1.759e-02 9.206e-03 1.220e-02 3.130e-03 1.657e+01\n",
            "  2.086e+01 1.103e+02 8.124e+02 1.411e-01 3.542e-01 2.779e-01 1.383e-01\n",
            "  2.589e-01 1.030e-01]\n",
            " [1.396e+01 1.705e+01 9.143e+01 6.024e+02 1.096e-01 1.279e-01 9.789e-02\n",
            "  5.246e-02 1.908e-01 6.130e-02 4.250e-01 8.098e-01 2.563e+00 3.574e+01\n",
            "  6.351e-03 2.679e-02 3.119e-02 1.342e-02 2.062e-02 2.695e-03 1.639e+01\n",
            "  2.207e+01 1.081e+02 8.260e+02 1.512e-01 3.262e-01 3.209e-01 1.374e-01\n",
            "  3.068e-01 7.957e-02]\n",
            " [1.448e+01 2.146e+01 9.425e+01 6.482e+02 9.444e-02 9.947e-02 1.204e-01\n",
            "  4.938e-02 2.075e-01 5.636e-02 4.204e-01 2.220e+00 3.301e+00 3.887e+01\n",
            "  9.369e-03 2.983e-02 5.371e-02 1.761e-02 2.418e-02 3.249e-03 1.621e+01\n",
            "  2.925e+01 1.084e+02 8.089e+02 1.306e-01 1.976e-01 3.349e-01 1.225e-01\n",
            "  3.020e-01 6.846e-02]\n",
            " [1.444e+01 1.518e+01 9.397e+01 6.401e+02 9.970e-02 1.021e-01 8.487e-02\n",
            "  5.532e-02 1.724e-01 6.081e-02 2.406e-01 7.394e-01 2.120e+00 2.120e+01\n",
            "  5.706e-03 2.297e-02 3.114e-02 1.493e-02 1.454e-02 2.528e-03 1.585e+01\n",
            "  1.985e+01 1.086e+02 7.669e+02 1.316e-01 2.735e-01 3.103e-01 1.599e-01\n",
            "  2.691e-01 7.683e-02]]\n"
          ]
        }
      ]
    },
    {
      "cell_type": "code",
      "source": [
        "# 34. Train a Bagging Classifier and compare its performance with a single Decision Tree Classifier.\n",
        "dt = DecisionTreeClassifier(random_state=42)\n",
        "dt.fit(X_train, y_train)\n",
        "print(\"Decision Tree Accuracy:\", dt.score(X_test, y_test))\n",
        "print(\"Bagging Accuracy:\", bagging_clf.score(X_test, y_test))\n"
      ],
      "metadata": {
        "colab": {
          "base_uri": "https://localhost:8080/"
        },
        "id": "RE3pY9T7wSo9",
        "outputId": "f77b2acc-e45a-46f0-9944-25b5bddb50d1"
      },
      "execution_count": 24,
      "outputs": [
        {
          "output_type": "stream",
          "name": "stdout",
          "text": [
            "Decision Tree Accuracy: 0.951048951048951\n",
            "Bagging Accuracy: 0.9440559440559441\n"
          ]
        }
      ]
    },
    {
      "cell_type": "code",
      "source": [
        "# 35. Train a Random Forest Classifier and visualize the confusion matrix.\n",
        "from sklearn.metrics import ConfusionMatrixDisplay\n",
        "ConfusionMatrixDisplay.from_estimator(rf_clf, X_test, y_test)\n",
        "\n"
      ],
      "metadata": {
        "colab": {
          "base_uri": "https://localhost:8080/",
          "height": 467
        },
        "id": "utVKp_svwSkF",
        "outputId": "9ade33ee-a4fd-4900-d7bf-2f04baedf5f7"
      },
      "execution_count": 25,
      "outputs": [
        {
          "output_type": "execute_result",
          "data": {
            "text/plain": [
              "<sklearn.metrics._plot.confusion_matrix.ConfusionMatrixDisplay at 0x7f20497114d0>"
            ]
          },
          "metadata": {},
          "execution_count": 25
        },
        {
          "output_type": "display_data",
          "data": {
            "text/plain": [
              "<Figure size 640x480 with 2 Axes>"
            ],
            "image/png": "[encoded data removed]"
          },
          "metadata": {}
        }
      ]
    },
    {
      "cell_type": "code",
      "source": [
        "# 36. Train a Stacking Classifier using Decision Trees, SVM, and Logistic Regression, and compare accuracy.\n",
        "from sklearn.ensemble import StackingClassifier\n",
        "\n",
        "stacking_clf = StackingClassifier(\n",
        "    estimators=[('dt', DecisionTreeClassifier()), ('svm', SVC(probability=True)), ('lr', LogisticRegression(max_iter= 5000))],\n",
        "    final_estimator=LogisticRegression()\n",
        ")\n",
        "stacking_clf.fit(X_train, y_train)\n",
        "print(\"Stacking Classifier Accuracy:\", stacking_clf.score(X_test, y_test))\n"
      ],
      "metadata": {
        "colab": {
          "base_uri": "https://localhost:8080/"
        },
        "id": "RnCCq78swShH",
        "outputId": "cdc3d3c9-64aa-469b-f515-a05acbdb8d76"
      },
      "execution_count": 27,
      "outputs": [
        {
          "output_type": "stream",
          "name": "stdout",
          "text": [
            "Stacking Classifier Accuracy: 0.965034965034965\n"
          ]
        }
      ]
    },
    {
      "cell_type": "code",
      "source": [
        "# 37. Train a Random Forest Classifier and print the top 5 most important features.\n",
        "import numpy as np\n",
        "indices = np.argsort(rf_clf.feature_importances_)[::-1][:5]\n",
        "print(\"Top 5 Features:\", indices)\n"
      ],
      "metadata": {
        "colab": {
          "base_uri": "https://localhost:8080/"
        },
        "id": "TZGm6UeLwSdd",
        "outputId": "da21fd53-f5fb-4a93-e37c-f26a7ac51825"
      },
      "execution_count": 28,
      "outputs": [
        {
          "output_type": "stream",
          "name": "stdout",
          "text": [
            "Top 5 Features: [27 23  7  6 20]\n"
          ]
        }
      ]
    },
    {
      "cell_type": "code",
      "source": [
        "# 38. Train a Bagging Classifier and evaluate performance using Precision, Recall, and F1-score.\n",
        "from sklearn.metrics import classification_report\n",
        "print(classification_report(y_test, bagging_clf.predict(X_test)))\n"
      ],
      "metadata": {
        "colab": {
          "base_uri": "https://localhost:8080/"
        },
        "id": "zxG7Ir2EwSaW",
        "outputId": "e86ec803-f838-421e-f155-4da920debca3"
      },
      "execution_count": 29,
      "outputs": [
        {
          "output_type": "stream",
          "name": "stdout",
          "text": [
            "              precision    recall  f1-score   support\n",
            "\n",
            "           0       0.91      0.94      0.93        54\n",
            "           1       0.97      0.94      0.95        89\n",
            "\n",
            "    accuracy                           0.94       143\n",
            "   macro avg       0.94      0.94      0.94       143\n",
            "weighted avg       0.94      0.94      0.94       143\n",
            "\n"
          ]
        }
      ]
    },
    {
      "cell_type": "code",
      "source": [
        "# 39. Train a Random Forest Classifier and analyze the effect of max_depth on accuracy.\n",
        "for depth in [None, 5, 10]:\n",
        "    model = RandomForestClassifier(max_depth=depth, random_state=42)\n",
        "    model.fit(X_train, y_train)\n",
        "    print(f\"Accuracy with max_depth={depth}: {model.score(X_test, y_test)}\")"
      ],
      "metadata": {
        "colab": {
          "base_uri": "https://localhost:8080/"
        },
        "id": "UNhNCiN-wSWs",
        "outputId": "68bc8843-35f3-4542-c488-02f113002d59"
      },
      "execution_count": 30,
      "outputs": [
        {
          "output_type": "stream",
          "name": "stdout",
          "text": [
            "Accuracy with max_depth=None: 0.965034965034965\n",
            "Accuracy with max_depth=5: 0.965034965034965\n",
            "Accuracy with max_depth=10: 0.965034965034965\n"
          ]
        }
      ]
    },
    {
      "cell_type": "code",
      "source": [
        "# 40. Train a Bagging Regressor using different base estimators (DecisionTree and KNeighbors) and compare performance.\n",
        "from sklearn.neighbors import KNeighborsRegressor\n",
        "\n",
        "for base in [DecisionTreeRegressor(), KNeighborsRegressor()]:\n",
        "    model = BaggingRegressor(estimator=base, n_estimators=10, random_state=42)\n",
        "    model.fit(X_train, y_train)\n",
        "    print(f\"Base {type(base).__name__} MSE:\", mean_squared_error(y_test, model.predict(X_test)))\n"
      ],
      "metadata": {
        "colab": {
          "base_uri": "https://localhost:8080/"
        },
        "id": "p3knBmSewSTZ",
        "outputId": "7db3c25e-cc09-4068-c622-c9e668b999d2"
      },
      "execution_count": 32,
      "outputs": [
        {
          "output_type": "stream",
          "name": "stdout",
          "text": [
            "Base DecisionTreeRegressor MSE: 0.040489510489510494\n",
            "Base KNeighborsRegressor MSE: 0.027854545454545455\n"
          ]
        }
      ]
    },
    {
      "cell_type": "code",
      "source": [
        "# 41. Train a Random Forest Classifier and evaluate its performance using ROC-AUC Score.\n",
        "from sklearn.metrics import roc_auc_score\n",
        "print(\"Random Forest ROC-AUC:\", roc_auc_score(y_test, rf_clf.predict_proba(X_test)[:,1]))\n"
      ],
      "metadata": {
        "colab": {
          "base_uri": "https://localhost:8080/"
        },
        "id": "iLEDyvpUwSPc",
        "outputId": "57c7d415-397c-48da-c040-2899ebe4505e"
      },
      "execution_count": 33,
      "outputs": [
        {
          "output_type": "stream",
          "name": "stdout",
          "text": [
            "Random Forest ROC-AUC: 0.9962546816479401\n"
          ]
        }
      ]
    },
    {
      "cell_type": "code",
      "source": [
        "# 42. Train a Bagging Classifier and evaluate its performance using cross-validation.\n",
        "from sklearn.model_selection import cross_val_score\n",
        "cv_scores = cross_val_score(bagging_clf, X, y, cv=5)\n",
        "print(\"Cross-Validation Scores:\", cv_scores)\n"
      ],
      "metadata": {
        "colab": {
          "base_uri": "https://localhost:8080/"
        },
        "id": "iS48-b0fwSLn",
        "outputId": "0836376b-4ae1-485c-e6bc-d9eacebf4012"
      },
      "execution_count": 34,
      "outputs": [
        {
          "output_type": "stream",
          "name": "stdout",
          "text": [
            "Cross-Validation Scores: [0.92982456 0.93859649 0.97368421 0.93859649 0.97345133]\n"
          ]
        }
      ]
    },
    {
      "cell_type": "code",
      "source": [
        "# 43. Train a Random Forest Classifier and plot the Precision-Recall curve.\n",
        "from sklearn.metrics import precision_recall_curve\n",
        "import matplotlib.pyplot as plt\n",
        "\n",
        "probs = rf_clf.predict_proba(X_test)[:, 1]\n",
        "precision, recall, _ = precision_recall_curve(y_test, probs)\n",
        "plt.plot(recall, precision)\n",
        "plt.xlabel('Recall')\n",
        "plt.ylabel('Precision')\n",
        "plt.title('Precision-Recall Curve')\n",
        "plt.show()"
      ],
      "metadata": {
        "colab": {
          "base_uri": "https://localhost:8080/",
          "height": 472
        },
        "id": "auz2F2XCwSAY",
        "outputId": "4998d2c8-bb37-4e74-e64c-1795b2ada56c"
      },
      "execution_count": 35,
      "outputs": [
        {
          "output_type": "display_data",
          "data": {
            "text/plain": [
              "<Figure size 640x480 with 1 Axes>"
            ],
            "image/png": "[encoded data removed]"
          },
          "metadata": {}
        }
      ]
    },
    {
      "cell_type": "code",
      "source": [
        "# 44. Train a Stacking Classifier with Random Forest and Logistic Regression and compare accuracy.\n",
        "stk_clf = StackingClassifier(\n",
        "    estimators=[('rf', RandomForestClassifier()), ('lr', LogisticRegression(max_iter=5000))],\n",
        "    final_estimator=LogisticRegression()\n",
        ")\n",
        "stk_clf.fit(X_train, y_train)\n",
        "print(\"Stacking Accuracy:\", stk_clf.score(X_test, y_test))\n"
      ],
      "metadata": {
        "colab": {
          "base_uri": "https://localhost:8080/"
        },
        "id": "KU-n6qIA_ifL",
        "outputId": "43ec8470-b4d8-499d-ca2c-456966ba7c35"
      },
      "execution_count": 37,
      "outputs": [
        {
          "output_type": "stream",
          "name": "stdout",
          "text": [
            "Stacking Accuracy: 0.972027972027972\n"
          ]
        }
      ]
    },
    {
      "cell_type": "code",
      "source": [
        "# 45. Train a Bagging Regressor with different levels of bootstrap samples and compare performance.\n",
        "for bootstrap in [True, False]:\n",
        "    model = BaggingRegressor(bootstrap=bootstrap, random_state=42)\n",
        "    model.fit(X_train, y_train)\n",
        "    print(f\"Bootstrap={bootstrap} MSE:\", mean_squared_error(y_test, model.predict(X_test)))\n"
      ],
      "metadata": {
        "colab": {
          "base_uri": "https://localhost:8080/"
        },
        "id": "CHYqq6Ny_iW3",
        "outputId": "d0a97fca-ba46-49ac-9a6f-9fef4654f886"
      },
      "execution_count": 38,
      "outputs": [
        {
          "output_type": "stream",
          "name": "stdout",
          "text": [
            "Bootstrap=True MSE: 0.040489510489510494\n",
            "Bootstrap=False MSE: 0.0486013986013986\n"
          ]
        }
      ]
    }
  ]
}